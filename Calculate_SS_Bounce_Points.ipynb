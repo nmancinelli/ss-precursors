{
 "cells": [
  {
   "cell_type": "markdown",
   "metadata": {},
   "source": [
    "## Get events "
   ]
  },
  {
   "cell_type": "code",
   "execution_count": 1,
   "metadata": {},
   "outputs": [],
   "source": [
    "import wget\n",
    "\n",
    "!rm *.ndk\n",
    "\n",
    "url = 'http://www.ldeo.columbia.edu/~gcmt/projects/CMT/catalog/jan76_dec13.ndk'\n",
    "wget.download( url )\n",
    "\n",
    "years = range(14,18)\n",
    "months  = ['jan','feb','mar','apr','may','jun','jul','aug','sep','oct','nov','dec']\n",
    "for year in years:\n",
    "    for month in months:\n",
    "        url='http://www.ldeo.columbia.edu/~gcmt/projects/CMT/catalog/NEW_MONTHLY/20%02d/%s%02d.ndk' % (year, month, year)\n",
    "        #print(url)\n",
    "        wget.download( url )"
   ]
  },
  {
   "cell_type": "code",
   "execution_count": 2,
   "metadata": {},
   "outputs": [
    {
     "name": "stdout",
     "output_type": "stream",
     "text": [
      "1614 Event(s) in Catalog:\n",
      "2014-01-01T16:03:34.800000Z | -13.890, +167.100 | 6.53 Mwc\n",
      "2014-01-04T00:11:55.400000Z | -20.600,  -70.980 | 5.73 Mwc\n",
      "...\n",
      "2017-12-29T21:20:56.800000Z | -53.180, -118.200 | 5.63 Mwc\n",
      "2017-12-29T23:55:57.800000Z |  -5.560, +150.890 | 5.73 Mwc\n",
      "To see all events call 'print(CatalogObject.__str__(print_all=True))'\n"
     ]
    }
   ],
   "source": [
    "import obspy\n",
    "from obspy.geodetics.base import gps2dist_azimuth\n",
    "from obspy.clients.syngine import Client\n",
    "from obspy.taup import TauPyModel\n",
    "\n",
    "#cat = obspy.read_events('jan76_dec13.ndk')\n",
    "\n",
    "cat = obspy.core.event.Catalog()\n",
    "\n",
    "for year in years:\n",
    "    for month in months:\n",
    "        tmp = obspy.read_events('%s%02d.ndk' % (month, year))\n",
    "        cat = cat + tmp.filter('magnitude >= 5.5')\n",
    "    \n",
    "print(cat)\n",
    "    "
   ]
  },
  {
   "cell_type": "code",
   "execution_count": null,
   "metadata": {},
   "outputs": [
    {
     "name": "stdout",
     "output_type": "stream",
     "text": [
      "rm: ssbpts.csv: No such file or directory\r\n"
     ]
    }
   ],
   "source": [
    "from obspy.clients.fdsn.client import Client\n",
    "from obspy.geodetics.base import gps2dist_azimuth\n",
    "from sph_loc import sph_loc\n",
    "\n",
    "import pandas as pd\n",
    "\n",
    "!rm 'ssbpts.csv'\n",
    "\n",
    "def save_dataframe(dataframe, file = 'ssbpts.csv', header = False):\n",
    "    dataframe.to_csv(file, index = False, mode = 'a', header = header)\n",
    "    \n",
    "def init_dataframe():\n",
    "    dataframe = pd.DataFrame(columns =\n",
    "                      ['Event', 'Network', 'Station', 'Range', 'Azimuth',\n",
    "                       'BAzimuth', 'EvtLat','EvtLon', 'StaLat', 'StaLon', 'MidLat','MidLon'])\n",
    "    \n",
    "    return dataframe\n",
    "\n",
    "df = init_dataframe()\n",
    "    \n",
    "save_dataframe(df, header = True)\n",
    "    \n",
    "irow = 0\n",
    "\n",
    "client = Client('IRIS')\n",
    "\n",
    "for evt in cat:\n",
    "\n",
    "    etag = evt.event_descriptions[1].text\n",
    "    \n",
    "    etime = evt.preferred_origin().time\n",
    "    elat  = evt.preferred_origin().latitude\n",
    "    elon  = evt.preferred_origin().longitude\n",
    "    \n",
    "    try:\n",
    "        inv = client.get_stations(network='*', station='*', channel='LH?', level='station',\n",
    "                                  startbefore = etime, endafter = etime+60*60,\n",
    "                                 includerestricted = False, includeavailability=True)\n",
    "    except:\n",
    "        print('Request Error')\n",
    "        continue\n",
    "        \n",
    "    for net in inv:\n",
    "        for sta in net:\n",
    "            if sta.restricted_status != 'open':\n",
    "                continue\n",
    "            \n",
    "            slat = sta.latitude\n",
    "            slon = sta.longitude\n",
    "            \n",
    "            delm, az, baz = gps2dist_azimuth(elat, elon, slat, slon)\n",
    "            deldeg = delm/1000./111.11\n",
    "            if deldeg > 55:\n",
    "                mlat, mlon = sph_loc(elat,elon,deldeg/2.,az)\n",
    "                \n",
    "                if mlon > 180.:\n",
    "                    mlon = mlon - 360.\n",
    "                \n",
    "                df.loc[irow] = [etag, net.code, sta.code, deldeg, az, baz, elat, elon, slat, slon, mlat, mlon]\n",
    "                irow += 1\n",
    "                if irow % 1000 == 0:  #write and drop memory load\n",
    "                    save_dataframe(df)\n",
    "                    df = init_dataframe()\n",
    "\n",
    "save_dataframe(df)"
   ]
  },
  {
   "cell_type": "code",
   "execution_count": null,
   "metadata": {
    "collapsed": true
   },
   "outputs": [],
   "source": []
  }
 ],
 "metadata": {
  "kernelspec": {
   "display_name": "Python 3",
   "language": "python",
   "name": "python3"
  },
  "language_info": {
   "codemirror_mode": {
    "name": "ipython",
    "version": 3
   },
   "file_extension": ".py",
   "mimetype": "text/x-python",
   "name": "python",
   "nbconvert_exporter": "python",
   "pygments_lexer": "ipython3",
   "version": "3.6.1"
  }
 },
 "nbformat": 4,
 "nbformat_minor": 2
}
