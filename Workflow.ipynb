{
 "cells": [
  {
   "cell_type": "markdown",
   "metadata": {},
   "source": [
    "## Workflow\n",
    "\n",
    "1. [Calculate_SS_Bounce_Points](Calculate_SS_Bounce_Points.ipynb)\n",
    "\n",
    "* [Obtain Waveforms](Obtain_Waveforms.ipynb) -- Note: May take several days to complete\n",
    "\n",
    "* [Calculate Signal to Noise](Measure_SNR.ipynb)\n",
    "\n",
    "* [Plot SS Bounce Points](Plot_SS_Bounce_Points.ipynb)\n",
    "\n",
    "* [Bin Waveforms](Bin_Waveforms.ipynb) \n",
    "\n",
    "* [Set-up Migrator](Migrator.ipynb)\n",
    "\n",
    "* [Stack Waveforms](Stack_Waveforms.ipynb)\n",
    "\n",
    "* [Synthetic Stacks](Synthetic_Stacks.ipynb)\n",
    "\n"
   ]
  },
  {
   "cell_type": "code",
   "execution_count": null,
   "metadata": {
    "collapsed": true
   },
   "outputs": [],
   "source": []
  }
 ],
 "metadata": {
  "kernelspec": {
   "display_name": "Python 3",
   "language": "python",
   "name": "python3"
  },
  "language_info": {
   "codemirror_mode": {
    "name": "ipython",
    "version": 3
   },
   "file_extension": ".py",
   "mimetype": "text/x-python",
   "name": "python",
   "nbconvert_exporter": "python",
   "pygments_lexer": "ipython3",
   "version": "3.6.1"
  }
 },
 "nbformat": 4,
 "nbformat_minor": 2
}
