{
 "cells": [
  {
   "cell_type": "code",
   "execution_count": 5,
   "metadata": {
    "collapsed": true,
    "scrolled": false
   },
   "outputs": [],
   "source": [
    "import warnings\n",
    "warnings.filterwarnings('ignore')\n",
    "\n",
    "import time\n",
    "\n",
    "import pandas as pd\n",
    "df = pd.read_csv('ssbpts.csv')\n",
    "\n",
    "df2 = df.query('MidLat > 30 and MidLat < 75 and MidLon < -60 and MidLon > -135 ')"
   ]
  },
  {
   "cell_type": "code",
   "execution_count": 6,
   "metadata": {
    "collapsed": true
   },
   "outputs": [],
   "source": [
    "try:\n",
    "    dfe = pd.read_csv('errors.csv', index_col=0)\n",
    "    df3 = pd.concat([df2, dfe], axis = 1)\n",
    "    df4 = df3.query('Status != Status')\n",
    "except FileNotFoundError:\n",
    "    dfe = pd.DataFrame()\n",
    "    df4 = df2\n",
    "    \n"
   ]
  },
  {
   "cell_type": "code",
   "execution_count": null,
   "metadata": {
    "scrolled": true
   },
   "outputs": [],
   "source": [
    "from obspy import UTCDateTime\n",
    "\n",
    "from obspy.taup import TauPyModel\n",
    "\n",
    "from obspy.clients.fdsn import Client\n",
    "\n",
    "client = Client(\"IRIS\")\n",
    "\n",
    "model = TauPyModel('ak135')\n",
    "\n",
    "\n",
    "\n",
    "def save_error_dataframe(dataframe):\n",
    "    dfe.to_csv('errors.csv')\n",
    "\n",
    "for bp in df4.iterrows():\n",
    "    etime = UTCDateTime(bp[1].EvtTime)\n",
    "    sta = bp[1].Station\n",
    "    net = bp[1].Network\n",
    "    deldeg = bp[1].Range\n",
    "    \n",
    "    print(\"Working on data from %3s.%5s on %15s for bpt %10d\" % (net,sta,etime,bp[0]))\n",
    "    \n",
    "    arrivals = model.get_travel_times(0.0, deldeg, phase_list = ['SS'])\n",
    "    \n",
    "    \n",
    "    time_ss = arrivals[0].time\n",
    "    \n",
    "    t1 = etime + time_ss - 200\n",
    "    t2 = etime + time_ss + 200\n",
    "    \n",
    "    clock=time.time()\n",
    "    try:\n",
    "        st = client.get_waveforms(net, sta, \"*\", \"LH*\", t1, t2, attach_response = True)\n",
    "    except:\n",
    "        err = 'No Data at %s.%s' % (net, sta)\n",
    "        #print(err)\n",
    "        dfe.loc[bp[0],\"Status\"] = err\n",
    "        continue\n",
    "    print('  step completed in %8.2e s' % (time.time() - clock) )\n",
    "        \n",
    "    \n",
    "\n",
    "    try:\n",
    "        st.remove_response(output='ACC', pre_filt=(0.005, 0.01, 0.5, 1.0))\n",
    "    except ValueError as e:\n",
    "        err = 'Response Error: %s' % e\n",
    "        #print(err)\n",
    "        dfe.loc[bp[0],\"Status\"] = err\n",
    "    \n",
    "    try:\n",
    "        inv = client.get_stations(\n",
    "            starttime=t1, endtime=t2, \n",
    "            network=net, sta=sta, \n",
    "            loc=\"*\", channel=\"LH*\", level=\"response\")\n",
    "        \n",
    "        st.rotate('->ZNE', inventory = inv)\n",
    "        st.rotate('NE->RT', back_azimuth = bp[1].BAzimuth)\n",
    "    except ValueError as e:\n",
    "        err = 'Rotation Error: %s' % e\n",
    "        #print(err)\n",
    "        dfe.loc[bp[0],\"Status\"] = err\n",
    "        \n",
    "        continue\n",
    "    \n",
    "    bpid = '%012d' % bp[0]\n",
    "    \n",
    "    filename = 'data/mseed/' + bpid + '.mseed'\n",
    "    \n",
    "    trT = st[0]\n",
    "    \n",
    "    for tr in st:\n",
    "        if 'T' in tr.stats.channel:\n",
    "            trT = tr\n",
    "    \n",
    "    trT.resample(1)\n",
    "    \n",
    "    trT.write(filename)\n",
    "    \n",
    "    dfe.loc[bp[0],\"Status\"] = 'OK'\n",
    "    \n",
    "    save_error_dataframe(dfe)\n",
    "   "
   ]
  },
  {
   "cell_type": "code",
   "execution_count": null,
   "metadata": {
    "collapsed": true
   },
   "outputs": [],
   "source": []
  }
 ],
 "metadata": {
  "kernelspec": {
   "display_name": "Python 3",
   "language": "python",
   "name": "python3"
  },
  "language_info": {
   "codemirror_mode": {
    "name": "ipython",
    "version": 3
   },
   "file_extension": ".py",
   "mimetype": "text/x-python",
   "name": "python",
   "nbconvert_exporter": "python",
   "pygments_lexer": "ipython3",
   "version": "3.6.1"
  }
 },
 "nbformat": 4,
 "nbformat_minor": 2
}
