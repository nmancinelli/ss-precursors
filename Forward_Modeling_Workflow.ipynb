{
 "cells": [
  {
   "cell_type": "markdown",
   "metadata": {},
   "source": [
    "### Workflow -- Forward Modeling\n",
    "\n",
    "1. For a given mantle composition, use perplex to generate material properties for T-P field (convert P to Z)\n",
    "2. Assume a value for heatflow, then use xenoliths to invert for a range of geotherms\n",
    "3. Make a velocity model\n",
    "  * Crustal constraints pasted from Crust1.0\n",
    "  * Mantle constraints from perplex calculation\n",
    "4. Use Minos to compute phase velocities and compare with observations"
   ]
  },
  {
   "cell_type": "code",
   "execution_count": 1,
   "metadata": {
    "collapsed": true
   },
   "outputs": [],
   "source": [
    "#Step 1 - Import mappings\n",
    "\n",
    "import pickle\n",
    "fin = open('perplex/funs.pickle','rb')\n",
    "[frho,fvp,fvs] = pickle.load(fin)\n",
    "fin.close()"
   ]
  },
  {
   "cell_type": "code",
   "execution_count": 2,
   "metadata": {},
   "outputs": [],
   "source": [
    "#Step 2 - Import range of geotherms\n",
    "from geotherm import *\n",
    "\n",
    "fin = open('geotherm/geotherm_ColoradoPlateau.pickle','rb')\n",
    "gt = pickle.load(fin)"
   ]
  },
  {
   "cell_type": "code",
   "execution_count": 3,
   "metadata": {},
   "outputs": [
    {
     "name": "stdout",
     "output_type": "stream",
     "text": [
      "Crust 1.0 at lat, lon = 36.00 -110.00\n",
      "     Vp    Vs  Density  Bottom   Label\n",
      "0  1.50  0.00     1.02    1.98   Water\n",
      "1  3.81  1.94     0.92    1.98     Ice\n",
      "2  2.50  1.07     2.11    0.98   Seds1\n",
      "3  4.60  2.59     2.46    0.48   Seds2\n",
      "4  0.00  0.00     0.00    0.48   Seds3\n",
      "5  6.10  3.55     2.74  -17.17  Crust1\n",
      "6  6.30  3.65     2.78  -32.82  Crust2\n",
      "7  7.00  3.99     2.95  -39.64  Crust3\n"
     ]
    },
    {
     "data": {
      "image/png": "[encoded data removed]",
      "text/plain": [
       "<matplotlib.figure.Figure at 0x116183eb8>"
      ]
     },
     "metadata": {},
     "output_type": "display_data"
    }
   ],
   "source": [
    "#Step 3 - Make velocity model and write to card file\n",
    "from matplotlib import pylab as plt\n",
    "%matplotlib inline\n",
    "plt.style.use('ggplot')\n",
    "\n",
    "from crust1.crust1 import Crust1\n",
    "c = Crust1().load('crust1/crustal_model_ColoradoPlateau.pickle').print()\n",
    "\n",
    "ziface1 = abs(c.model.Bottom[5])\n",
    "ziface2 = abs(c.model.Bottom[6])\n",
    "zmoho = abs(c.model.Bottom[7])\n",
    "\n",
    "def extract_profile(fun, crustal_property_column):\n",
    "    vs, zs = [],[]\n",
    "    for ii, eachz in enumerate(gt.depths):\n",
    "        \n",
    "        val = fun(gt.temps[ii], eachz)\n",
    "        \n",
    "        for ilay in [7,6,5]:\n",
    "            zcritical = abs(c.model.Bottom[ilay])\n",
    "            if eachz < zcritical:\n",
    "                val = crustal_property_column[ilay]\n",
    "            \n",
    "        vs.append(val)\n",
    "        zs.append(eachz)\n",
    "\n",
    "    _ = plt.plot(vs, zs, lw = 2)\n",
    "    plt.ylim([max(zs),0])\n",
    "    \n",
    "plt.figure(1)\n",
    "extract_profile(fvp, c.model.Vp)\n",
    "extract_profile(fvs, c.model.Vs)\n",
    "extract_profile(frho, c.model.Density)\n"
   ]
  },
  {
   "cell_type": "code",
   "execution_count": 4,
   "metadata": {
    "collapsed": true
   },
   "outputs": [],
   "source": [
    "#Step 4 - Compute phase velocities"
   ]
  }
 ],
 "metadata": {
  "kernelspec": {
   "display_name": "Python 3",
   "language": "python",
   "name": "python3"
  },
  "language_info": {
   "codemirror_mode": {
    "name": "ipython",
    "version": 3
   },
   "file_extension": ".py",
   "mimetype": "text/x-python",
   "name": "python",
   "nbconvert_exporter": "python",
   "pygments_lexer": "ipython3",
   "version": "3.6.1"
  }
 },
 "nbformat": 4,
 "nbformat_minor": 2
}
