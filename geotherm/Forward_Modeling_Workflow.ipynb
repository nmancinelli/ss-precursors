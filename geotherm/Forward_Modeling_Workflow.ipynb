{
 "cells": [
  {
   "cell_type": "markdown",
   "metadata": {},
   "source": [
    "### Workflow -- Forward Modeling\n",
    "\n",
    "- Use xenoliths and heatflow to constrain mantle geotherm\n",
    "- Use perplex to calculate material properties along the geotherm\n",
    "- Convert pressure to depth\n",
    "- Make a velocity model with crustal constraints from Crust2.0 and mantle constraints from the Perplex Output\n",
    "- Use Minos to compute phase velocities\n",
    "- Compare with observations"
   ]
  },
  {
   "cell_type": "code",
   "execution_count": null,
   "metadata": {
    "collapsed": true
   },
   "outputs": [],
   "source": []
  }
 ],
 "metadata": {
  "kernelspec": {
   "display_name": "Python 3",
   "language": "python",
   "name": "python3"
  },
  "language_info": {
   "codemirror_mode": {
    "name": "ipython",
    "version": 3
   },
   "file_extension": ".py",
   "mimetype": "text/x-python",
   "name": "python",
   "nbconvert_exporter": "python",
   "pygments_lexer": "ipython3",
   "version": "3.6.1"
  }
 },
 "nbformat": 4,
 "nbformat_minor": 2
}
